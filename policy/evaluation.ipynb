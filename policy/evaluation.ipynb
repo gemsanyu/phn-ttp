{
 "cells": [
  {
   "cell_type": "markdown",
   "metadata": {},
   "source": [
    "# GECCO2019 - Bi-objective Traveling Thief Problem "
   ]
  },
  {
   "cell_type": "markdown",
   "metadata": {},
   "source": [
    "This worksheet contains the evaluation for the competition at **GECCO2019**. \n",
    "After having received all submissions, the evaluation will be done as follows:\n",
    "\n",
    "After having received all submissions, the evaluation will be done as follows:\n",
    "\n",
    "For each of the nine test problems\n",
    "\n",
    "a) We will merge the solution sets of all submissions and extract the non-dominated set.\n",
    "\n",
    "b) The minimum in time and the maximum in profit will be used to determine the reference point.\n",
    "\n",
    "c) With respect to this reference point the quality of each submission will be measured using the hypervolume indicator.\n",
    "\n",
    "d) We will sort the submissions according to the achieved hypervolume in descending order and give points as follows: 1st place -> 3 points, 2nd place -> 2 points, 3rd place -> 1 point.\n",
    "\n",
    "\n",
    "By adding up the points for each submission we will create the overall ranking. Please note, that depending on the number of submissions the evaluation might need to be reconsidered.\n",
    "\n",
    "The validation has already been done using the Java code. Which means that each submission has the correct number of solutions (less than the maximum specfied at the competition homepage).\n"
   ]
  },
  {
   "cell_type": "code",
   "execution_count": null,
   "metadata": {},
   "outputs": [],
   "source": []
  },
  {
   "cell_type": "markdown",
   "metadata": {},
   "source": [
    "## Imports necessary for the evaluation"
   ]
  },
  {
   "cell_type": "code",
   "execution_count": 1,
   "metadata": {},
   "outputs": [],
   "source": [
    "from non_dominated_sorting import fast_non_dominated_sort\n",
    "import os.path\n",
    "import numpy as np\n",
    "import matplotlib.pyplot as plt\n",
    "from hv import Hypervolume\n",
    "from normalization import normalize\n",
    "import pandas as pd"
   ]
  },
  {
   "cell_type": "markdown",
   "metadata": {},
   "source": [
    "## Participants and Problems"
   ]
  },
  {
   "cell_type": "code",
   "execution_count": 20,
   "metadata": {},
   "outputs": [],
   "source": [
    "# the result folder as a path\n",
    "folder = os.path.join(os.path.dirname(os.path.dirname(os.getcwd())), \"submissions\")\n",
    "\n",
    "# all submissions received\n",
    "participants = [   \n",
    "                    \"HPI\",\n",
    "#                     \"ALLAOUI\",\n",
    "#                     \"jomar\",\n",
    "#                     \"shisunzhang\", \n",
    "#                     \"faria\",\n",
    "#                     \"NTGA\", \n",
    "#                     \"SSteam\", \n",
    "#                     \"SamirO-ETF-ba\", \n",
    "#                     \"FRA\", \n",
    "#                     \"sinc\",\n",
    "                    \"AM-DRLMOA\",\n",
    "                    \"att-r1nes\",\n",
    "#                     \"att-r1nesv1\",\n",
    "#                     \"att-r1nesv2\",\n",
    "                    \"AM-PHN\",\n",
    "#                     \"att_phn-rs64\",\n",
    "#                     \"att_phn-rs256\",\n",
    "#                     \"AM-PHN-SE\",\n",
    "                    \"mpn_drlmoa\",\n",
    "                    \"mpn_r1nes_final\",\n",
    "#                     \"mpn_r1nes_finalv1\",\n",
    "#                     \"mpn_r1nes_finalv2\",\n",
    "                    \"mpn-phn\",\n",
    "#                     \"mpn-phn-rs64\",\n",
    "#                     \"mpn-phn-rs256\",\n",
    "#                     \"mpn-phn_pure\"\n",
    "               ]\n",
    "\n",
    "participants_name_dict = {   \n",
    "                    \"HPI\":\"HPI\",\n",
    "                    \"ALLAOUI\":\"ALLAOUI\",\n",
    "                    \"jomar\":\"jomar\", \n",
    "                    \"shisunzhang\":\"shisunzhang\", \n",
    "                    \"faria\":\"faria\",\n",
    "                    \"NTGA\":\"NTGA\", \n",
    "                    \"SSteam\":\"SSteam\", \n",
    "                    \"SamirO-ETF-ba\":\"SamirO-ETF-ba\", \n",
    "                    \"FRA\":\"FRA\", \n",
    "                    \"sinc\":\"sinc\",\n",
    "                    \"AM-DRLMOA\":\"am-drlmoa\",\n",
    "                    \"att-r1nes\":\"am-mbps\",\n",
    "                    \"att-r1nesv1\":\"am-mbpsv1\",\n",
    "                    \"att-r1nesv2\":\"am-mbpsv2\",\n",
    "                    \"AM-PHN\":\"am-phn\",\n",
    "                    \"att_phn-rs64\":\"am-phn-64\",\n",
    "                    \"att_phn-rs256\":\"am-phn-256\",\n",
    "                    \"AM-PHN-SE\":\"am-phn-se\",\n",
    "                    \"mpn_drlmoa\":\"pn-drlmoa\",\n",
    "                    \"mpn_r1nes_final\":\"pn-mbps\",\n",
    "                    \"mpn_r1nes_finalv1\":\"pn-mbpsv1\",\n",
    "                    \"mpn_r1nes_finalv2\":\"pn-mbpsv2\",\n",
    "                    \"mpn-phn\":\"pn-phn\",\n",
    "                    \"mpn-phn-rs64\":\"pn-phn-64\",\n",
    "                    \"mpn-phn-rs256\":\"pn-phn-256\",\n",
    "                    \"mpn-phn_pure\":\"pn-phn-se\"\n",
    "}\n",
    "\n",
    "# participants = [   \"HPI\",\n",
    "#                    \"mpn_drlmoa\",\n",
    "#                    \"mpn_r1nes_final\" \n",
    "#                 \"ALLAOUI\",\"jomar\", \"shisunzhang\",  \"faria\", \"HPI\",\n",
    "#                 \"NTGA\", \"SSteam\", \"SamirO-ETF-ba\", \"FRA\", \"sinc\", \n",
    "#                 \"JG\",\n",
    "#                 \"profit_first\", \n",
    "#                 \"travel_first\",\n",
    "                 # \"ValAurTeam\", \"MicroGA\" ## unfortunatly those submissions were invalid  \n",
    "#                ]\n",
    "# participants = [\"profit_first\", \"travel_first\", \"dynamic_penalty_bs\"\n",
    "                 # \"ValAurTeam\", \"MicroGA\" ## unfortunatly those submissions were invalid  \n",
    "#                ]\n",
    "# participants = [\"profit_first\",\n",
    "#                  # \"ValAurTeam\", \"MicroGA\" ## unfortunatly those submissions were invalid  \n",
    "#                ]\n",
    "\n",
    "# all the problems to be solved\n",
    "# problems = [\"a280_n279\", \"a280_n1395\", \"a280_n2790\",\n",
    "#             \"fnl4461_n4460\", \"fnl4461_n22300\", \"fnl4461_n44600\", \n",
    "#             \"pla33810_n33809\", \"pla33810_n169045\", \"pla33810_n338090\"\n",
    "# ]\n",
    "problems = [\"a280_n279\", \"a280_n1395\", \"a280_n2790\", \"fnl4461_n4460\", \"fnl4461_n22300\",\n",
    "            \"fnl4461_n44600\"\n",
    "           ]\n",
    "# problems = [\"a280_n279\"]"
   ]
  },
  {
   "cell_type": "markdown",
   "metadata": {},
   "source": [
    "## Load data\n",
    "\n",
    "Load all data from the submission directory and convert it to a minimization problem.\n",
    "The data dictionary contains all submissions of a participant. The set of non-dominated points\n",
    "is converted to a minimization problem by multiplying the profit times -1."
   ]
  },
  {
   "cell_type": "code",
   "execution_count": 21,
   "metadata": {
    "scrolled": false
   },
   "outputs": [],
   "source": [
    "\n",
    "data = {}\n",
    "\n",
    "for problem in problems:\n",
    "    _entry = {}\n",
    "    for participant in participants:\n",
    "        \n",
    "        # check for the corresponding file\n",
    "        fname = \"%s_%s.f\" % (participant, problem)   \n",
    "        path_to_file = os.path.join(folder,participant, fname)\n",
    "        \n",
    "        # in case the wrong delimiter was used\n",
    "        if not os.path.isfile(path_to_file):\n",
    "            fname = \"%s_%s.f\" % (participant, problem.replace(\"_\", \"-\"))\n",
    "            path_to_file = os.path.join(folder,participant, fname)\n",
    "         \n",
    "        # load the values in the objective space - first column is time, second profit\n",
    "        _F = np.loadtxt(path_to_file)\n",
    "        \n",
    "        # modify it to a min-min problem by multiplying the profit by -1\n",
    "        _entry[participant] = _F * [1, -1]\n",
    "        \n",
    "    data[problem] = _entry\n",
    "\n",
    "\n"
   ]
  },
  {
   "cell_type": "markdown",
   "metadata": {},
   "source": [
    "## Plot the results\n",
    "\n",
    "To get an idea how the submissions look like, we are plotting the results first.\n",
    "Note that the plots are not normalized yet and the ranges of both object vary."
   ]
  },
  {
   "cell_type": "code",
   "execution_count": 30,
   "metadata": {
    "scrolled": false
   },
   "outputs": [
    {
     "name": "stdout",
     "output_type": "stream",
     "text": [
      "Plot the results. If points are not shown there are not in the non-dominated region.\n",
      "============================================================\n",
      "a280_n279\n",
      "============================================================\n"
     ]
    },
    {
     "data": {
      "image/png": "[encoded data removed]",
      "text/plain": [
       "<Figure size 360x288 with 1 Axes>"
      ]
     },
     "metadata": {
      "needs_background": "light"
     },
     "output_type": "display_data"
    },
    {
     "name": "stdout",
     "output_type": "stream",
     "text": [
      "============================================================\n",
      "a280_n1395\n",
      "============================================================\n"
     ]
    },
    {
     "data": {
      "image/png": "[encoded data removed]",
      "text/plain": [
       "<Figure size 360x288 with 1 Axes>"
      ]
     },
     "metadata": {
      "needs_background": "light"
     },
     "output_type": "display_data"
    },
    {
     "name": "stdout",
     "output_type": "stream",
     "text": [
      "============================================================\n",
      "a280_n2790\n",
      "============================================================\n"
     ]
    },
    {
     "data": {
      "image/png": "[encoded data removed]",
      "text/plain": [
       "<Figure size 360x288 with 1 Axes>"
      ]
     },
     "metadata": {
      "needs_background": "light"
     },
     "output_type": "display_data"
    },
    {
     "name": "stdout",
     "output_type": "stream",
     "text": [
      "============================================================\n",
      "fnl4461_n4460\n",
      "============================================================\n"
     ]
    },
    {
     "data": {
      "image/png": "[encoded data removed]",
      "text/plain": [
       "<Figure size 360x288 with 1 Axes>"
      ]
     },
     "metadata": {
      "needs_background": "light"
     },
     "output_type": "display_data"
    },
    {
     "name": "stdout",
     "output_type": "stream",
     "text": [
      "============================================================\n",
      "fnl4461_n22300\n",
      "============================================================\n"
     ]
    },
    {
     "data": {
      "image/png": "[encoded data removed]",
      "text/plain": [
       "<Figure size 360x288 with 1 Axes>"
      ]
     },
     "metadata": {
      "needs_background": "light"
     },
     "output_type": "display_data"
    },
    {
     "name": "stdout",
     "output_type": "stream",
     "text": [
      "============================================================\n",
      "fnl4461_n44600\n",
      "============================================================\n"
     ]
    },
    {
     "data": {
      "image/png": "[encoded data removed]",
      "text/plain": [
       "<Figure size 360x288 with 1 Axes>"
      ]
     },
     "metadata": {
      "needs_background": "light"
     },
     "output_type": "display_data"
    }
   ],
   "source": [
    "print(\"Plot the results. If points are not shown there are not in the non-dominated region.\")\n",
    "\n",
    "import matplotlib.cm as cm\n",
    "cmap = cm.get_cmap('tab10')\n",
    "\n",
    "only_top_3 = False\n",
    "nd_size_df = pd.DataFrame()\n",
    "nd_size_df[\"algorithms\"] = participants\n",
    "for idx, problem in enumerate(problems):\n",
    "    nd_size_list = []\n",
    "    plt.figure(figsize=(5, 4))\n",
    "    for k, participant in enumerate(participants):\n",
    "        if not only_top_3 or (only_top_3 and participant in [\"HPI\", \"jomar\", \"NTGA\"]):\n",
    "\n",
    "            _F = data[problem][participant]\n",
    "            if len(_F.shape) == 1:\n",
    "                _F = _F[np.newaxis, :]\n",
    "            participant_label = participants_name_dict[participant]\n",
    "            I = fast_non_dominated_sort(_F)[0]\n",
    "            nondom_F = _F[I]\n",
    "            nd_size_list += [len(nondom_F)]\n",
    "            plt.scatter(nondom_F[:,0], nondom_F[:,1], label=participant_label, s=10, facecolors='none', edgecolors=cmap(k))\n",
    "    nd_size_df[problem] = nd_size_list\n",
    "    _all = np.row_stack([data[problem][participant] for participant in participants])\n",
    "    I = fast_non_dominated_sort(_all)[0]\n",
    "    _non_dom = _all[I]\n",
    "    \n",
    "#     _min = _all.min(axis=0)\n",
    "#     _max = _all.max(axis=0)\n",
    "    _min = _non_dom.min(axis=0)\n",
    "    _max = _non_dom.max(axis=0)\n",
    "    _range = _max - _min\n",
    "        \n",
    "    print(\"=\" * 60)\n",
    "    print(problem)\n",
    "    print(\"=\" * 60)\n",
    "#     plt.xlabel(\"total travel time\")\n",
    "#     plt.ylabel(\"negative total profit\")\n",
    "    plt.xlim(_min[0] - 0.05 * _range[0], _max[0] + 0.05 * _range[0])\n",
    "    plt.ylim(_min[1] - 0.05 * _range[1], _max[1] + 0.05 * _range[1])\n",
    "    if idx == 0:\n",
    "        plt.legend()\n",
    "    plt.gcf()\n",
    "    plt.savefig(\"solution_plot_\"+problem+\".jpg\", dpi=200, bbox_inches='tight', )\n",
    "    plt.show()\n",
    "\n",
    "# nd_size_df.to_csv(\"nondom_solutions_num.csv\")"
   ]
  },
  {
   "cell_type": "markdown",
   "metadata": {},
   "source": [
    "## Find the reference non-dominated set for each test instance\n",
    "\n",
    "For each problem we merge the submissions to a new population and filter out the non-dominated solutions. Then, we take the minimum and the maximum of this set as the ideal and nadir point the normalize the results."
   ]
  },
  {
   "cell_type": "code",
   "execution_count": 34,
   "metadata": {},
   "outputs": [],
   "source": [
    "\n",
    "ideal_point = {}\n",
    "nadir_point = {}\n",
    "ndf = {}\n",
    "\n",
    "for problem in problems:\n",
    "    \n",
    "    # the merged non-dominated solutions for the specific problem\n",
    "    M = []\n",
    "    for participant in participants:    \n",
    "        _F = data[problem][participant]\n",
    "        M.append(_F)\n",
    "        \n",
    "    M = np.vstack(M)    \n",
    "    I = fast_non_dominated_sort(M)[0]\n",
    "    M = M[I, :]\n",
    "    \n",
    "    ideal_point[problem] = np.min(M, axis=0)\n",
    "    nadir_point[problem] = np.max(M, axis=0)\n",
    "    ndf[problem] = M\n",
    "    \n",
    "    "
   ]
  },
  {
   "cell_type": "markdown",
   "metadata": {},
   "source": [
    "In the following for each problem the non-dominated set of solutions is first normalized using the boundaries and hypervolume is calculated."
   ]
  },
  {
   "cell_type": "code",
   "execution_count": 37,
   "metadata": {},
   "outputs": [],
   "source": [
    "results = []\n",
    "\n",
    "for problem in problems:\n",
    "    \n",
    "    z = ideal_point[problem]\n",
    "    z_nad = nadir_point[problem]\n",
    " \n",
    "    for participant in participants:    \n",
    "        _F = data[problem][participant]\n",
    "        _N = normalize(_F, z, z_nad)\n",
    "        _hv = Hypervolume(np.array([1,1])).calc(_N)\n",
    "        results.append({'problem' : problem, 'participant' : participant, 'hv' : _hv})\n",
    "        \n",
    "df = pd.DataFrame(results, columns=[\"problem\", \"participant\", \"hv\"])\n"
   ]
  },
  {
   "cell_type": "code",
   "execution_count": 38,
   "metadata": {},
   "outputs": [
    {
     "name": "stdout",
     "output_type": "stream",
     "text": [
      "None\n",
      "============================================================\n",
      "a280_n279\n",
      "============================================================\n",
      "      problem        participant        hv\n",
      "0   a280_n279                HPI  0.893061\n",
      "1   a280_n279              jomar  0.889012\n",
      "2   a280_n279        shisunzhang  0.881265\n",
      "3   a280_n279               NTGA  0.877615\n",
      "4   a280_n279             SSteam  0.866866\n",
      "5   a280_n279            ALLAOUI  0.866408\n",
      "6   a280_n279              faria  0.591768\n",
      "7   a280_n279             AM-PHN  0.580260\n",
      "8   a280_n279          AM-DRLMOA  0.551902\n",
      "9   a280_n279      SamirO-ETF-ba  0.537143\n",
      "10  a280_n279         mpn_drlmoa  0.523684\n",
      "11  a280_n279       att_phn-rs64  0.522332\n",
      "12  a280_n279  mpn_r1nes_finalv1  0.501106\n",
      "13  a280_n279          att-r1nes  0.494673\n",
      "14  a280_n279    mpn_r1nes_final  0.380138\n",
      "15  a280_n279            mpn-phn  0.380083\n",
      "16  a280_n279               sinc  0.373404\n",
      "17  a280_n279  mpn_r1nes_finalv2  0.329871\n",
      "18  a280_n279      att_phn-rs256  0.259601\n",
      "19  a280_n279                FRA  0.218049\n",
      "20  a280_n279      mpn-phn-rs256  0.199492\n",
      "21  a280_n279       mpn-phn-rs64  0.002040\n",
      "22  a280_n279        att-r1nesv2  0.000000\n",
      "23  a280_n279          AM-PHN-SE  0.000000\n",
      "24  a280_n279        att-r1nesv1  0.000000\n",
      "25  a280_n279       mpn-phn_pure  0.000000\n",
      "============================================================\n",
      "a280_n1395\n",
      "============================================================\n",
      "       problem        participant        hv\n",
      "0   a280_n1395          att-r1nes  0.820665\n",
      "1   a280_n1395                HPI  0.820246\n",
      "2   a280_n1395          AM-DRLMOA  0.817479\n",
      "3   a280_n1395        shisunzhang  0.815305\n",
      "4   a280_n1395              jomar  0.814205\n",
      "5   a280_n1395         mpn_drlmoa  0.812164\n",
      "6   a280_n1395               NTGA  0.801557\n",
      "7   a280_n1395  mpn_r1nes_finalv2  0.801055\n",
      "8   a280_n1395            ALLAOUI  0.800199\n",
      "9   a280_n1395             AM-PHN  0.784389\n",
      "10  a280_n1395             SSteam  0.780213\n",
      "11  a280_n1395       att_phn-rs64  0.766369\n",
      "12  a280_n1395    mpn_r1nes_final  0.764921\n",
      "13  a280_n1395        att-r1nesv1  0.757369\n",
      "14  a280_n1395            mpn-phn  0.754246\n",
      "15  a280_n1395              faria  0.751237\n",
      "16  a280_n1395        att-r1nesv2  0.741023\n",
      "17  a280_n1395  mpn_r1nes_finalv1  0.735046\n",
      "18  a280_n1395      mpn-phn-rs256  0.594616\n",
      "19  a280_n1395      SamirO-ETF-ba  0.491130\n",
      "20  a280_n1395       mpn-phn_pure  0.272678\n",
      "21  a280_n1395               sinc  0.262901\n",
      "22  a280_n1395                FRA  0.106946\n",
      "23  a280_n1395      att_phn-rs256  0.006270\n",
      "24  a280_n1395       mpn-phn-rs64  0.004044\n",
      "25  a280_n1395          AM-PHN-SE  0.000000\n",
      "============================================================\n",
      "a280_n2790\n",
      "============================================================\n",
      "       problem        participant        hv\n",
      "0   a280_n2790              jomar  0.883713\n",
      "1   a280_n2790                HPI  0.881798\n",
      "2   a280_n2790            ALLAOUI  0.879753\n",
      "3   a280_n2790               NTGA  0.876937\n",
      "4   a280_n2790        shisunzhang  0.870633\n",
      "5   a280_n2790             SSteam  0.860410\n",
      "6   a280_n2790          AM-DRLMOA  0.843574\n",
      "7   a280_n2790             AM-PHN  0.790987\n",
      "8   a280_n2790        att-r1nesv1  0.786908\n",
      "9   a280_n2790         mpn_drlmoa  0.766107\n",
      "10  a280_n2790       att_phn-rs64  0.748087\n",
      "11  a280_n2790    mpn_r1nes_final  0.676091\n",
      "12  a280_n2790      SamirO-ETF-ba  0.597003\n",
      "13  a280_n2790        att-r1nesv2  0.572657\n",
      "14  a280_n2790  mpn_r1nes_finalv2  0.540277\n",
      "15  a280_n2790  mpn_r1nes_finalv1  0.450970\n",
      "16  a280_n2790          att-r1nes  0.433993\n",
      "17  a280_n2790            mpn-phn  0.426052\n",
      "18  a280_n2790               sinc  0.419387\n",
      "19  a280_n2790              faria  0.405094\n",
      "20  a280_n2790                FRA  0.220221\n",
      "21  a280_n2790      mpn-phn-rs256  0.057324\n",
      "22  a280_n2790       mpn-phn_pure  0.052135\n",
      "23  a280_n2790      att_phn-rs256  0.004184\n",
      "24  a280_n2790       mpn-phn-rs64  0.003016\n",
      "25  a280_n2790          AM-PHN-SE  0.000000\n",
      "============================================================\n",
      "fnl4461_n4460\n",
      "============================================================\n",
      "          problem        participant        hv\n",
      "0   fnl4461_n4460                HPI  0.933901\n",
      "1   fnl4461_n4460              jomar  0.932661\n",
      "2   fnl4461_n4460               NTGA  0.914043\n",
      "3   fnl4461_n4460            ALLAOUI  0.889219\n",
      "4   fnl4461_n4460             SSteam  0.854150\n",
      "5   fnl4461_n4460        shisunzhang  0.825777\n",
      "6   fnl4461_n4460              faria  0.589630\n",
      "7   fnl4461_n4460          AM-DRLMOA  0.567681\n",
      "8   fnl4461_n4460             AM-PHN  0.466845\n",
      "9   fnl4461_n4460       att_phn-rs64  0.413878\n",
      "10  fnl4461_n4460         mpn_drlmoa  0.396533\n",
      "11  fnl4461_n4460    mpn_r1nes_final  0.293469\n",
      "12  fnl4461_n4460  mpn_r1nes_finalv1  0.245724\n",
      "13  fnl4461_n4460  mpn_r1nes_finalv2  0.214516\n",
      "14  fnl4461_n4460      att_phn-rs256  0.145774\n",
      "15  fnl4461_n4460            mpn-phn  0.117897\n",
      "16  fnl4461_n4460      mpn-phn-rs256  0.084879\n",
      "17  fnl4461_n4460                FRA  0.004476\n",
      "18  fnl4461_n4460       mpn-phn-rs64  0.003855\n",
      "19  fnl4461_n4460        att-r1nesv2  0.000000\n",
      "20  fnl4461_n4460          AM-PHN-SE  0.000000\n",
      "21  fnl4461_n4460        att-r1nesv1  0.000000\n",
      "22  fnl4461_n4460          att-r1nes  0.000000\n",
      "23  fnl4461_n4460               sinc  0.000000\n",
      "24  fnl4461_n4460      SamirO-ETF-ba  0.000000\n",
      "25  fnl4461_n4460       mpn-phn_pure  0.000000\n",
      "============================================================\n",
      "fnl4461_n22300\n",
      "============================================================\n",
      "           problem        participant        hv\n",
      "0   fnl4461_n22300                HPI  0.818938\n",
      "1   fnl4461_n22300              jomar  0.814634\n",
      "2   fnl4461_n22300               NTGA  0.803470\n",
      "3   fnl4461_n22300             SSteam  0.781462\n",
      "4   fnl4461_n22300            ALLAOUI  0.760480\n",
      "5   fnl4461_n22300          AM-DRLMOA  0.745008\n",
      "6   fnl4461_n22300        shisunzhang  0.726736\n",
      "7   fnl4461_n22300          att-r1nes  0.687661\n",
      "8   fnl4461_n22300  mpn_r1nes_finalv2  0.675629\n",
      "9   fnl4461_n22300    mpn_r1nes_final  0.668905\n",
      "10  fnl4461_n22300            mpn-phn  0.664457\n",
      "11  fnl4461_n22300  mpn_r1nes_finalv1  0.619555\n",
      "12  fnl4461_n22300             AM-PHN  0.557372\n",
      "13  fnl4461_n22300        att-r1nesv1  0.529959\n",
      "14  fnl4461_n22300       att_phn-rs64  0.494058\n",
      "15  fnl4461_n22300         mpn_drlmoa  0.482266\n",
      "16  fnl4461_n22300        att-r1nesv2  0.372716\n",
      "17  fnl4461_n22300      mpn-phn-rs256  0.268287\n",
      "18  fnl4461_n22300              faria  0.125933\n",
      "19  fnl4461_n22300                FRA  0.002047\n",
      "20  fnl4461_n22300       mpn-phn-rs64  0.000438\n",
      "21  fnl4461_n22300      att_phn-rs256  0.000437\n",
      "22  fnl4461_n22300          AM-PHN-SE  0.000000\n",
      "23  fnl4461_n22300               sinc  0.000000\n",
      "24  fnl4461_n22300      SamirO-ETF-ba  0.000000\n",
      "25  fnl4461_n22300       mpn-phn_pure  0.000000\n",
      "============================================================\n",
      "fnl4461_n44600\n",
      "============================================================\n",
      "           problem        participant        hv\n",
      "0   fnl4461_n44600                HPI  0.882894\n",
      "1   fnl4461_n44600              jomar  0.874688\n",
      "2   fnl4461_n44600             SSteam  0.856863\n",
      "3   fnl4461_n44600        shisunzhang  0.850339\n",
      "4   fnl4461_n44600               NTGA  0.824830\n",
      "5   fnl4461_n44600            ALLAOUI  0.818150\n",
      "6   fnl4461_n44600          AM-DRLMOA  0.809403\n",
      "7   fnl4461_n44600             AM-PHN  0.573413\n",
      "8   fnl4461_n44600        att-r1nesv1  0.499241\n",
      "9   fnl4461_n44600       att_phn-rs64  0.486469\n",
      "10  fnl4461_n44600         mpn_drlmoa  0.429153\n",
      "11  fnl4461_n44600    mpn_r1nes_final  0.372994\n",
      "12  fnl4461_n44600  mpn_r1nes_finalv1  0.299148\n",
      "13  fnl4461_n44600  mpn_r1nes_finalv2  0.289984\n",
      "14  fnl4461_n44600        att-r1nesv2  0.288764\n",
      "15  fnl4461_n44600            mpn-phn  0.211511\n",
      "16  fnl4461_n44600          att-r1nes  0.050866\n",
      "17  fnl4461_n44600              faria  0.039143\n",
      "18  fnl4461_n44600                FRA  0.015224\n",
      "19  fnl4461_n44600      att_phn-rs256  0.000304\n",
      "20  fnl4461_n44600      mpn-phn-rs256  0.000301\n",
      "21  fnl4461_n44600       mpn-phn-rs64  0.000246\n",
      "22  fnl4461_n44600          AM-PHN-SE  0.000000\n",
      "23  fnl4461_n44600               sinc  0.000000\n",
      "24  fnl4461_n44600      SamirO-ETF-ba  0.000000\n",
      "25  fnl4461_n44600       mpn-phn_pure  0.000000\n"
     ]
    }
   ],
   "source": [
    "print(df.to_csv(\"all_hv.csv\"))\n",
    "\n",
    "for problem in problems:\n",
    "\n",
    "    print(\"=\" * 60)\n",
    "    print(problem)\n",
    "    print(\"=\" * 60)\n",
    "    \n",
    "    _df = df[df[\"problem\"] == problem].copy()\n",
    "    _df.sort_values(\"hv\", ascending=False, inplace=True)\n",
    "    _df.reset_index(drop=True, inplace=True)\n",
    "    print(_df)"
   ]
  },
  {
   "cell_type": "markdown",
   "metadata": {},
   "source": [
    "The data frame contains all results. Now, we need to rank the submission for each test instance:"
   ]
  },
  {
   "cell_type": "code",
   "execution_count": 28,
   "metadata": {},
   "outputs": [],
   "source": [
    "# the final ranking. And add zero points initially (sum is later taken anyway...)\n",
    "ranking = []\n",
    "for participant in participants:\n",
    "    ranking.append({'participant': participant, 'points' : 0})\n",
    "\n",
    "\n",
    "# one more time loop through problem wise\n",
    "for problem in problems:\n",
    "    \n",
    "    _df = df[df[\"problem\"] == problem].copy()\n",
    "    \n",
    "    # sort descending by hv\n",
    "    _df.sort_values(\"hv\", ascending=False, inplace=True)\n",
    "    \n",
    "    # 3 points for the 1st place\n",
    "    first = _df.iloc[0][\"participant\"]\n",
    "    ranking.append({'participant': first, 'points' : 3})\n",
    "    \n",
    "    # 2 points for the 2nd place\n",
    "    second = _df.iloc[1][\"participant\"]\n",
    "    ranking.append({'participant': second, 'points' : 2})\n",
    "    \n",
    "    # 1 point for the 3rd place\n",
    "    third = _df.iloc[2][\"participant\"]\n",
    "    ranking.append({'participant': third, 'points' : 1})\n",
    "\n",
    "    \n",
    "ranking = pd.DataFrame(ranking, columns=[\"participant\", \"points\"])"
   ]
  },
  {
   "cell_type": "markdown",
   "metadata": {},
   "source": [
    "# Leaderboard\n",
    "\n",
    "Finally, we sum up the hypervolume for each problem and evaluate the winner!"
   ]
  },
  {
   "cell_type": "code",
   "execution_count": 29,
   "metadata": {},
   "outputs": [
    {
     "data": {
      "text/html": [
       "<div>\n",
       "<style scoped>\n",
       "    .dataframe tbody tr th:only-of-type {\n",
       "        vertical-align: middle;\n",
       "    }\n",
       "\n",
       "    .dataframe tbody tr th {\n",
       "        vertical-align: top;\n",
       "    }\n",
       "\n",
       "    .dataframe thead th {\n",
       "        text-align: right;\n",
       "    }\n",
       "</style>\n",
       "<table border=\"1\" class=\"dataframe\">\n",
       "  <thead>\n",
       "    <tr style=\"text-align: right;\">\n",
       "      <th></th>\n",
       "      <th>points</th>\n",
       "    </tr>\n",
       "    <tr>\n",
       "      <th>participant</th>\n",
       "      <th></th>\n",
       "    </tr>\n",
       "  </thead>\n",
       "  <tbody>\n",
       "    <tr>\n",
       "      <th>HPI</th>\n",
       "      <td>16</td>\n",
       "    </tr>\n",
       "    <tr>\n",
       "      <th>jomar</th>\n",
       "      <td>11</td>\n",
       "    </tr>\n",
       "    <tr>\n",
       "      <th>att-r1nes</th>\n",
       "      <td>3</td>\n",
       "    </tr>\n",
       "    <tr>\n",
       "      <th>NTGA</th>\n",
       "      <td>2</td>\n",
       "    </tr>\n",
       "    <tr>\n",
       "      <th>ALLAOUI</th>\n",
       "      <td>1</td>\n",
       "    </tr>\n",
       "    <tr>\n",
       "      <th>AM-DRLMOA</th>\n",
       "      <td>1</td>\n",
       "    </tr>\n",
       "    <tr>\n",
       "      <th>SSteam</th>\n",
       "      <td>1</td>\n",
       "    </tr>\n",
       "    <tr>\n",
       "      <th>shisunzhang</th>\n",
       "      <td>1</td>\n",
       "    </tr>\n",
       "    <tr>\n",
       "      <th>AM-PHN</th>\n",
       "      <td>0</td>\n",
       "    </tr>\n",
       "    <tr>\n",
       "      <th>FRA</th>\n",
       "      <td>0</td>\n",
       "    </tr>\n",
       "    <tr>\n",
       "      <th>SamirO-ETF-ba</th>\n",
       "      <td>0</td>\n",
       "    </tr>\n",
       "    <tr>\n",
       "      <th>faria</th>\n",
       "      <td>0</td>\n",
       "    </tr>\n",
       "    <tr>\n",
       "      <th>mpn-phn</th>\n",
       "      <td>0</td>\n",
       "    </tr>\n",
       "    <tr>\n",
       "      <th>mpn_drlmoa</th>\n",
       "      <td>0</td>\n",
       "    </tr>\n",
       "    <tr>\n",
       "      <th>mpn_r1nes_final</th>\n",
       "      <td>0</td>\n",
       "    </tr>\n",
       "    <tr>\n",
       "      <th>sinc</th>\n",
       "      <td>0</td>\n",
       "    </tr>\n",
       "  </tbody>\n",
       "</table>\n",
       "</div>"
      ],
      "text/plain": [
       "                 points\n",
       "participant            \n",
       "HPI                  16\n",
       "jomar                11\n",
       "att-r1nes             3\n",
       "NTGA                  2\n",
       "ALLAOUI               1\n",
       "AM-DRLMOA             1\n",
       "SSteam                1\n",
       "shisunzhang           1\n",
       "AM-PHN                0\n",
       "FRA                   0\n",
       "SamirO-ETF-ba         0\n",
       "faria                 0\n",
       "mpn-phn               0\n",
       "mpn_drlmoa            0\n",
       "mpn_r1nes_final       0\n",
       "sinc                  0"
      ]
     },
     "execution_count": 29,
     "metadata": {},
     "output_type": "execute_result"
    }
   ],
   "source": [
    "ranking.groupby('participant').sum().sort_values(\"points\", ascending=False)"
   ]
  },
  {
   "cell_type": "markdown",
   "metadata": {},
   "source": [
    "\n",
    "\n",
    "\n",
    "\n",
    "\n",
    "\n"
   ]
  },
  {
   "cell_type": "markdown",
   "metadata": {},
   "source": [
    "## Leaderboard as HTML"
   ]
  },
  {
   "cell_type": "code",
   "execution_count": 6,
   "metadata": {
    "scrolled": true
   },
   "outputs": [
    {
     "name": "stdout",
     "output_type": "stream",
     "text": [
      "<script src='https://code.jquery.com/jquery-3.2.1.slim.min.js' integrity='sha384-KJ3o2DKtIkvYIK3UENzmM7KCkRr/rE9/Qpg6aAZGJwFDMVNA/GpGFF93hXpG5KkN' crossorigin='anonymous'></script>\n",
      "<script src='https://cdnjs.cloudflare.com/ajax/libs/popper.js/1.12.9/umd/popper.min.js' integrity='sha384-ApNbgh9B+Y1QKtv3Rn7W3mgPxhU9K/ScQsAP7hUibX39j7fakFPskvXusvfa0b4Q' crossorigin='anonymous'></script>\n",
      "<script src='https://maxcdn.bootstrapcdn.com/bootstrap/4.0.0/js/bootstrap.min.js' integrity='sha384-JZR6Spejh4U02d8jOt6vLEHfe/JQGiRRSQQxSfFWpi1MquVdAyjUar5+76PVCmYl' crossorigin='anonymous'></script>\n",
      "<div class='row'><div class='w-50'>\n",
      "<table class='table'>\n",
      "<tr><th>Problem</th><th>Team</th><th>Hypervolume</th><th>Estimated Ideal Point</th><th>Estimated Nadir Point</th></tr>\n"
     ]
    },
    {
     "ename": "NameError",
     "evalue": "name 'df' is not defined",
     "output_type": "error",
     "traceback": [
      "\u001b[1;31m---------------------------------------------------------------------------\u001b[0m",
      "\u001b[1;31mNameError\u001b[0m                                 Traceback (most recent call last)",
      "Input \u001b[1;32mIn [6]\u001b[0m, in \u001b[0;36m<cell line: 11>\u001b[1;34m()\u001b[0m\n\u001b[0;32m      9\u001b[0m \u001b[38;5;28mprint\u001b[39m(\u001b[38;5;124m\"\u001b[39m\u001b[38;5;124m<tr><th>Problem</th><th>Team</th><th>Hypervolume</th><th>Estimated Ideal Point</th><th>Estimated Nadir Point</th></tr>\u001b[39m\u001b[38;5;124m\"\u001b[39m)\n\u001b[0;32m     11\u001b[0m \u001b[38;5;28;01mfor\u001b[39;00m problem \u001b[38;5;129;01min\u001b[39;00m problems:\n\u001b[1;32m---> 13\u001b[0m     _df \u001b[38;5;241m=\u001b[39m \u001b[43mdf\u001b[49m[df[\u001b[38;5;124m\"\u001b[39m\u001b[38;5;124mproblem\u001b[39m\u001b[38;5;124m\"\u001b[39m] \u001b[38;5;241m==\u001b[39m problem]\u001b[38;5;241m.\u001b[39mcopy()\n\u001b[0;32m     14\u001b[0m     _df\u001b[38;5;241m.\u001b[39msort_values(\u001b[38;5;124m\"\u001b[39m\u001b[38;5;124mhv\u001b[39m\u001b[38;5;124m\"\u001b[39m, ascending\u001b[38;5;241m=\u001b[39m\u001b[38;5;28;01mFalse\u001b[39;00m, inplace\u001b[38;5;241m=\u001b[39m\u001b[38;5;28;01mTrue\u001b[39;00m)\n\u001b[0;32m     15\u001b[0m     _df\u001b[38;5;241m.\u001b[39mreset_index(drop\u001b[38;5;241m=\u001b[39m\u001b[38;5;28;01mTrue\u001b[39;00m)\n",
      "\u001b[1;31mNameError\u001b[0m: name 'df' is not defined"
     ]
    }
   ],
   "source": [
    "\n",
    "\n",
    "standalone = True\n",
    "if standalone:\n",
    "    print(\"<script src='https://code.jquery.com/jquery-3.2.1.slim.min.js' integrity='sha384-KJ3o2DKtIkvYIK3UENzmM7KCkRr/rE9/Qpg6aAZGJwFDMVNA/GpGFF93hXpG5KkN' crossorigin='anonymous'></script>\")\n",
    "    print(\"<script src='https://cdnjs.cloudflare.com/ajax/libs/popper.js/1.12.9/umd/popper.min.js' integrity='sha384-ApNbgh9B+Y1QKtv3Rn7W3mgPxhU9K/ScQsAP7hUibX39j7fakFPskvXusvfa0b4Q' crossorigin='anonymous'></script>\")\n",
    "    print(\"<script src='https://maxcdn.bootstrapcdn.com/bootstrap/4.0.0/js/bootstrap.min.js' integrity='sha384-JZR6Spejh4U02d8jOt6vLEHfe/JQGiRRSQQxSfFWpi1MquVdAyjUar5+76PVCmYl' crossorigin='anonymous'></script>\")\n",
    "\n",
    "print(\"<div class='row'><div class='w-50'>\")\n",
    "print(\"<table class='table'>\")\n",
    "print(\"<tr><th>Problem</th><th>Team</th><th>Hypervolume</th><th>Estimated Ideal Point</th><th>Estimated Nadir Point</th></tr>\")\n",
    "\n",
    "for problem in problems:\n",
    "    \n",
    "    _df = df[df[\"problem\"] == problem].copy()\n",
    "    _df.sort_values(\"hv\", ascending=False, inplace=True)\n",
    "    _df.reset_index(drop=True)\n",
    "    \n",
    "    first = True\n",
    "    for i, e in _df.iterrows():\n",
    "        \n",
    "        problem, team, hv = e.values\n",
    "        \n",
    "        if first:\n",
    "            \n",
    "            s_row_span = \"<th rowspan='%s'>%s</th>\"\n",
    "            \n",
    "            s_problem = s_row_span % (len(_df), problem)\n",
    "            s_ideal = s_row_span % (len(_df), \"(%s, %s)\" % (round(ideal_point[problem][0]), round(ideal_point[problem][1])))\n",
    "            s_nadir = s_row_span % (len(_df), \"(%s, %s)\" % (round(nadir_point[problem][0]), round(nadir_point[problem][1])))\n",
    "            \n",
    "            print(\"<tr>%s <th>%s</th> <th>%s</th> %s %s  </tr>\" \n",
    "                  % (s_problem, team, round(hv,4), s_ideal, s_nadir))\n",
    "        else:\n",
    "            print(\"<tr><th>%s</th><th>%s</th></tr>\" % (team, round(hv,4)))\n",
    "        \n",
    "            \n",
    "        first = False\n",
    "        \n",
    "    print()\n",
    "    \n",
    "    \n",
    "print(\"<table>\")\n",
    "print(\"</div></div>\")"
   ]
  },
  {
   "cell_type": "code",
   "execution_count": 11,
   "metadata": {},
   "outputs": [
    {
     "name": "stdout",
     "output_type": "stream",
     "text": [
      "<script src='https://code.jquery.com/jquery-3.2.1.slim.min.js' integrity='sha384-KJ3o2DKtIkvYIK3UENzmM7KCkRr/rE9/Qpg6aAZGJwFDMVNA/GpGFF93hXpG5KkN' crossorigin='anonymous'></script>\n",
      "<script src='https://cdnjs.cloudflare.com/ajax/libs/popper.js/1.12.9/umd/popper.min.js' integrity='sha384-ApNbgh9B+Y1QKtv3Rn7W3mgPxhU9K/ScQsAP7hUibX39j7fakFPskvXusvfa0b4Q' crossorigin='anonymous'></script>\n",
      "<script src='https://maxcdn.bootstrapcdn.com/bootstrap/4.0.0/js/bootstrap.min.js' integrity='sha384-JZR6Spejh4U02d8jOt6vLEHfe/JQGiRRSQQxSfFWpi1MquVdAyjUar5+76PVCmYl' crossorigin='anonymous'></script>\n",
      "<div class='row'><div class='w-50'>\n",
      "<table class='table'>\n",
      "<tr><th>Rank</th><th>Team</th><th>Points</th></tr>\n",
      "<tr><th>1</th><th>HPI</th><th>3</th></tr>\n",
      "<tr><th>2</th><th>jomar</th><th>2</th></tr>\n",
      "<tr><th>3</th><th>shisunzhang</th><th>1</th></tr>\n",
      "<tr><th>4</th><th>ALLAOUI</th><th>0</th></tr>\n",
      "<tr><th>5</th><th>FRA</th><th>0</th></tr>\n",
      "<tr><th>6</th><th>JG</th><th>0</th></tr>\n",
      "<tr><th>7</th><th>NTGA</th><th>0</th></tr>\n",
      "<tr><th>8</th><th>SSteam</th><th>0</th></tr>\n",
      "<tr><th>9</th><th>SamirO-ETF-ba</th><th>0</th></tr>\n",
      "<tr><th>10</th><th>dynamic_penalty_bs</th><th>0</th></tr>\n",
      "<tr><th>11</th><th>faria</th><th>0</th></tr>\n",
      "<tr><th>12</th><th>profit_first</th><th>0</th></tr>\n",
      "<tr><th>13</th><th>sinc</th><th>0</th></tr>\n",
      "<tr><th>14</th><th>travel_first</th><th>0</th></tr>\n",
      "<table>\n",
      "</div></div>\n"
     ]
    }
   ],
   "source": [
    "_ranking = ranking.groupby('participant').sum().sort_values(\"points\", ascending=False)\n",
    "\n",
    "standalone = True\n",
    "if standalone:\n",
    "    print(\"<script src='https://code.jquery.com/jquery-3.2.1.slim.min.js' integrity='sha384-KJ3o2DKtIkvYIK3UENzmM7KCkRr/rE9/Qpg6aAZGJwFDMVNA/GpGFF93hXpG5KkN' crossorigin='anonymous'></script>\")\n",
    "    print(\"<script src='https://cdnjs.cloudflare.com/ajax/libs/popper.js/1.12.9/umd/popper.min.js' integrity='sha384-ApNbgh9B+Y1QKtv3Rn7W3mgPxhU9K/ScQsAP7hUibX39j7fakFPskvXusvfa0b4Q' crossorigin='anonymous'></script>\")\n",
    "    print(\"<script src='https://maxcdn.bootstrapcdn.com/bootstrap/4.0.0/js/bootstrap.min.js' integrity='sha384-JZR6Spejh4U02d8jOt6vLEHfe/JQGiRRSQQxSfFWpi1MquVdAyjUar5+76PVCmYl' crossorigin='anonymous'></script>\")\n",
    "\n",
    "\n",
    "print(\"<div class='row'><div class='w-50'>\")\n",
    "print(\"<table class='table'>\")\n",
    "print(\"<tr><th>Rank</th><th>Team</th><th>Points</th></tr>\")\n",
    "\n",
    "\n",
    "counter = 0\n",
    "for i, e in _ranking.iterrows():\n",
    "    print(\"<tr><th>%s</th><th>%s</th><th>%s</th></tr>\" % (counter+1, i, e[0]))\n",
    "    counter += 1\n",
    "\n",
    "    \n",
    "print(\"<table>\")\n",
    "print(\"</div></div>\")\n"
   ]
  },
  {
   "cell_type": "code",
   "execution_count": null,
   "metadata": {},
   "outputs": [],
   "source": []
  },
  {
   "cell_type": "code",
   "execution_count": null,
   "metadata": {},
   "outputs": [],
   "source": []
  },
  {
   "cell_type": "code",
   "execution_count": null,
   "metadata": {},
   "outputs": [],
   "source": []
  }
 ],
 "metadata": {
  "interpreter": {
   "hash": "3c0c4bd5035c880c139250a616163027548d077313cb9e84f7f53bceb37454c7"
  },
  "kernelspec": {
   "display_name": "Python 3 (ipykernel)",
   "language": "python",
   "name": "python3"
  },
  "language_info": {
   "codemirror_mode": {
    "name": "ipython",
    "version": 3
   },
   "file_extension": ".py",
   "mimetype": "text/x-python",
   "name": "python",
   "nbconvert_exporter": "python",
   "pygments_lexer": "ipython3",
   "version": "3.9.12"
  }
 },
 "nbformat": 4,
 "nbformat_minor": 2
}
